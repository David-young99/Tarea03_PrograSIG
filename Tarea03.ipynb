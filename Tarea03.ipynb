{
 "cells": [
  {
   "cell_type": "markdown",
   "id": "5d1c3fb2",
   "metadata": {},
   "source": [
    "# Tarea 03 Programación en SIG"
   ]
  },
  {
   "cell_type": "markdown",
   "id": "eb1bb10f",
   "metadata": {},
   "source": [
    "### Estudiantes: David Young y "
   ]
  },
  {
   "cell_type": "markdown",
   "id": "9299faf2",
   "metadata": {},
   "source": [
    "Registros de presencia de felinos de Costa Rica, agrupados por la Infraestructura Mundial de Información en Biodiversidad (GBIF). y Áreas silvestres protegidas (ASP) de Costa Rica, publicadas por el Sistema Nacional de Áreas de Conservación (Sinac) en el Sistema Nacional de Información Territorial (SNIT).\n"
   ]
  },
  {
   "cell_type": "code",
   "execution_count": null,
   "id": "0f5c0a5c",
   "metadata": {},
   "outputs": [],
   "source": [
    "###"
   ]
  }
 ],
 "metadata": {
  "kernelspec": {
   "display_name": "Python 3 (ipykernel)",
   "language": "python",
   "name": "python3"
  },
  "language_info": {
   "codemirror_mode": {
    "name": "ipython",
    "version": 3
   },
   "file_extension": ".py",
   "mimetype": "text/x-python",
   "name": "python",
   "nbconvert_exporter": "python",
   "pygments_lexer": "ipython3",
   "version": "3.10.6"
  }
 },
 "nbformat": 4,
 "nbformat_minor": 5
}
