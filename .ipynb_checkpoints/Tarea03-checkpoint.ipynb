{
 "cells": [
  {
   "cell_type": "markdown",
   "id": "5d1c3fb2",
   "metadata": {},
   "source": [
    "# Tarea 03 Programación en SIG"
   ]
  },
  {
   "cell_type": "markdown",
   "id": "eb1bb10f",
   "metadata": {},
   "source": [
    "### Estudiantes: David Young y Alexandra Salazar"
   ]
  },
  {
   "cell_type": "markdown",
   "id": "9299faf2",
   "metadata": {},
   "source": [
    "Registros de presencia de felinos de Costa Rica, agrupados por la Infraestructura Mundial de Información en Biodiversidad (GBIF). y Áreas silvestres protegidas (ASP) de Costa Rica, publicadas por el Sistema Nacional de Áreas de Conservación (Sinac) en el Sistema Nacional de Información Territorial (SNIT).\n"
   ]
  },
  {
   "cell_type": "code",
   "execution_count": 1,
   "id": "0f5c0a5c",
   "metadata": {},
   "outputs": [
    {
     "data": {
      "text/plain": [
       "'0.11.1'"
      ]
     },
     "execution_count": 1,
     "metadata": {},
     "output_type": "execute_result"
    }
   ],
   "source": [
    "# Carga de pandas\n",
    "import pandas as pd\n",
    "\n",
    "#Carga de geopandas\n",
    "import geopandas as gpd\n",
    "\n",
    "# Obtener versión de geopandas\n",
    "gpd.__version__"
   ]
  },
  {
   "cell_type": "code",
   "execution_count": 2,
   "id": "42bfc1b2",
   "metadata": {},
   "outputs": [
    {
     "name": "stdout",
     "output_type": "stream",
     "text": [
      "<class 'pandas.core.frame.DataFrame'>\n",
      "RangeIndex: 190 entries, 0 to 189\n",
      "Data columns (total 50 columns):\n",
      " #   Column                            Non-Null Count  Dtype  \n",
      "---  ------                            --------------  -----  \n",
      " 0   gbifID                            190 non-null    int64  \n",
      " 1   datasetKey                        190 non-null    object \n",
      " 2   occurrenceID                      187 non-null    object \n",
      " 3   kingdom                           190 non-null    object \n",
      " 4   phylum                            190 non-null    object \n",
      " 5   class                             190 non-null    object \n",
      " 6   order                             190 non-null    object \n",
      " 7   family                            190 non-null    object \n",
      " 8   genus                             190 non-null    object \n",
      " 9   species                           190 non-null    object \n",
      " 10  infraspecificEpithet              20 non-null     object \n",
      " 11  taxonRank                         190 non-null    object \n",
      " 12  scientificName                    190 non-null    object \n",
      " 13  verbatimScientificName            190 non-null    object \n",
      " 14  verbatimScientificNameAuthorship  16 non-null     object \n",
      " 15  countryCode                       190 non-null    object \n",
      " 16  locality                          41 non-null     object \n",
      " 17  stateProvince                     172 non-null    object \n",
      " 18  occurrenceStatus                  190 non-null    object \n",
      " 19  individualCount                   25 non-null     float64\n",
      " 20  publishingOrgKey                  190 non-null    object \n",
      " 21  decimalLatitude                   190 non-null    float64\n",
      " 22  decimalLongitude                  190 non-null    float64\n",
      " 23  coordinateUncertaintyInMeters     162 non-null    float64\n",
      " 24  coordinatePrecision               0 non-null      float64\n",
      " 25  elevation                         3 non-null      float64\n",
      " 26  elevationAccuracy                 3 non-null      float64\n",
      " 27  depth                             3 non-null      float64\n",
      " 28  depthAccuracy                     3 non-null      float64\n",
      " 29  eventDate                         188 non-null    object \n",
      " 30  day                               187 non-null    float64\n",
      " 31  month                             188 non-null    float64\n",
      " 32  year                              188 non-null    float64\n",
      " 33  taxonKey                          190 non-null    int64  \n",
      " 34  speciesKey                        190 non-null    int64  \n",
      " 35  basisOfRecord                     190 non-null    object \n",
      " 36  institutionCode                   177 non-null    object \n",
      " 37  collectionCode                    190 non-null    object \n",
      " 38  catalogNumber                     190 non-null    object \n",
      " 39  recordNumber                      4 non-null      object \n",
      " 40  identifiedBy                      159 non-null    object \n",
      " 41  dateIdentified                    147 non-null    object \n",
      " 42  license                           190 non-null    object \n",
      " 43  rightsHolder                      172 non-null    object \n",
      " 44  recordedBy                        175 non-null    object \n",
      " 45  typeStatus                        0 non-null      float64\n",
      " 46  establishmentMeans                10 non-null     object \n",
      " 47  lastInterpreted                   190 non-null    object \n",
      " 48  mediaType                         141 non-null    object \n",
      " 49  issue                             175 non-null    object \n",
      "dtypes: float64(13), int64(3), object(34)\n",
      "memory usage: 74.3+ KB\n"
     ]
    }
   ],
   "source": [
    "# Carga de datos\n",
    "felinos_cr = pd.read_csv(\"datos/felinos.csv\", \n",
    "                                   sep=\"\\t\", \n",
    "                                       encoding=\"iso-8859-1\") # para leer tildes y otros caracteres\n",
    "felinos_cr.info()"
   ]
  },
  {
   "cell_type": "code",
   "execution_count": 3,
   "id": "a4fc7c65",
   "metadata": {},
   "outputs": [
    {
     "data": {
      "text/html": [
       "<div>\n",
       "<style scoped>\n",
       "    .dataframe tbody tr th:only-of-type {\n",
       "        vertical-align: middle;\n",
       "    }\n",
       "\n",
       "    .dataframe tbody tr th {\n",
       "        vertical-align: top;\n",
       "    }\n",
       "\n",
       "    .dataframe thead th {\n",
       "        text-align: right;\n",
       "    }\n",
       "</style>\n",
       "<table border=\"1\" class=\"dataframe\">\n",
       "  <thead>\n",
       "    <tr style=\"text-align: right;\">\n",
       "      <th></th>\n",
       "      <th>Especies</th>\n",
       "      <th>Provincia</th>\n",
       "      <th>Localidad</th>\n",
       "      <th>Fecha</th>\n",
       "    </tr>\n",
       "  </thead>\n",
       "  <tbody>\n",
       "    <tr>\n",
       "      <th>0</th>\n",
       "      <td>Puma concolor</td>\n",
       "      <td>Puntarenas</td>\n",
       "      <td>NaN</td>\n",
       "      <td>2022-04-22T14:30:01</td>\n",
       "    </tr>\n",
       "    <tr>\n",
       "      <th>1</th>\n",
       "      <td>Panthera onca</td>\n",
       "      <td>LimÃ³n</td>\n",
       "      <td>NaN</td>\n",
       "      <td>2022-10-09T18:40:00</td>\n",
       "    </tr>\n",
       "    <tr>\n",
       "      <th>2</th>\n",
       "      <td>Panthera onca</td>\n",
       "      <td>Guanacaste</td>\n",
       "      <td>NaN</td>\n",
       "      <td>2022-09-28T05:25:00</td>\n",
       "    </tr>\n",
       "    <tr>\n",
       "      <th>3</th>\n",
       "      <td>Leopardus tigrinus</td>\n",
       "      <td>Guanacaste</td>\n",
       "      <td>NaN</td>\n",
       "      <td>2018-02-19T12:32:00</td>\n",
       "    </tr>\n",
       "    <tr>\n",
       "      <th>4</th>\n",
       "      <td>Puma yagouaroundi</td>\n",
       "      <td>Puntarenas</td>\n",
       "      <td>NaN</td>\n",
       "      <td>2022-01-23T15:05:00</td>\n",
       "    </tr>\n",
       "    <tr>\n",
       "      <th>...</th>\n",
       "      <td>...</td>\n",
       "      <td>...</td>\n",
       "      <td>...</td>\n",
       "      <td>...</td>\n",
       "    </tr>\n",
       "    <tr>\n",
       "      <th>185</th>\n",
       "      <td>Puma concolor</td>\n",
       "      <td>NaN</td>\n",
       "      <td>Cordillera de Talamanca, ChirripÃ³-Massiv (Sab...</td>\n",
       "      <td>NaN</td>\n",
       "    </tr>\n",
       "    <tr>\n",
       "      <th>186</th>\n",
       "      <td>Leopardus tigrinus</td>\n",
       "      <td>San JosÃ© Province</td>\n",
       "      <td>Ca. 4 km SW Cerro Chirripo</td>\n",
       "      <td>1967-05-15T00:00:00</td>\n",
       "    </tr>\n",
       "    <tr>\n",
       "      <th>187</th>\n",
       "      <td>Leopardus tigrinus</td>\n",
       "      <td>San JosÃ© Province</td>\n",
       "      <td>La Piedra</td>\n",
       "      <td>1967-02-01T00:00:00</td>\n",
       "    </tr>\n",
       "    <tr>\n",
       "      <th>188</th>\n",
       "      <td>Leopardus pardalis</td>\n",
       "      <td>Puntarenas Province</td>\n",
       "      <td>14 km NE Potrero Grande</td>\n",
       "      <td>1965-06-28T00:00:00</td>\n",
       "    </tr>\n",
       "    <tr>\n",
       "      <th>189</th>\n",
       "      <td>Leopardus pardalis</td>\n",
       "      <td>Puntarenas Province</td>\n",
       "      <td>Gromaco, 15 km ESE Potrero Grande</td>\n",
       "      <td>1963-02-03T00:00:00</td>\n",
       "    </tr>\n",
       "  </tbody>\n",
       "</table>\n",
       "<p>190 rows × 4 columns</p>\n",
       "</div>"
      ],
      "text/plain": [
       "               Especies            Provincia  \\\n",
       "0         Puma concolor           Puntarenas   \n",
       "1         Panthera onca               LimÃ³n   \n",
       "2         Panthera onca           Guanacaste   \n",
       "3    Leopardus tigrinus           Guanacaste   \n",
       "4     Puma yagouaroundi           Puntarenas   \n",
       "..                  ...                  ...   \n",
       "185       Puma concolor                  NaN   \n",
       "186  Leopardus tigrinus   San JosÃ© Province   \n",
       "187  Leopardus tigrinus   San JosÃ© Province   \n",
       "188  Leopardus pardalis  Puntarenas Province   \n",
       "189  Leopardus pardalis  Puntarenas Province   \n",
       "\n",
       "                                             Localidad                Fecha  \n",
       "0                                                  NaN  2022-04-22T14:30:01  \n",
       "1                                                  NaN  2022-10-09T18:40:00  \n",
       "2                                                  NaN  2022-09-28T05:25:00  \n",
       "3                                                  NaN  2018-02-19T12:32:00  \n",
       "4                                                  NaN  2022-01-23T15:05:00  \n",
       "..                                                 ...                  ...  \n",
       "185  Cordillera de Talamanca, ChirripÃ³-Massiv (Sab...                  NaN  \n",
       "186                         Ca. 4 km SW Cerro Chirripo  1967-05-15T00:00:00  \n",
       "187                                          La Piedra  1967-02-01T00:00:00  \n",
       "188                            14 km NE Potrero Grande  1965-06-28T00:00:00  \n",
       "189                  Gromaco, 15 km ESE Potrero Grande  1963-02-03T00:00:00  \n",
       "\n",
       "[190 rows x 4 columns]"
      ]
     },
     "execution_count": 3,
     "metadata": {},
     "output_type": "execute_result"
    }
   ],
   "source": [
    "# Reducción de columnas\n",
    "felinos_cr = felinos_cr[[\"species\", \"stateProvince\", \"locality\", \"eventDate\"]]\n",
    "\n",
    "# Eliminación de fila con valores nulos\n",
    "felinos_cr = felinos_cr.dropna(how='all')\n",
    "\n",
    "\n",
    "\n",
    "\n",
    "# Cambio de nombre de columnas\n",
    "felinos_cr = felinos_cr.rename(columns={\"species\": \"Especies\",\n",
    "                                        \"stateProvince\": \"Provincia\",\n",
    "                                        \"locality\": \"Localidad\",\n",
    "                                        \"eventDate\": \"Fecha\"})\n",
    "\n",
    "\n",
    "\n",
    "'''#Cambio del tipo de datos del campo de fecha\n",
    "felinos_cr.insert(4, \"Hora\", felinos_cr[\"Fecha\"], allow_duplicates=True)\n",
    "\n",
    "# Cambio del tipo de datos del campo de fecha\n",
    "felinos_cr[\"Fecha\"] = pd.to_datetime(felinos_cr[\"Fecha\"], format=\"%d/%m/%Y\")'''\n",
    "\n",
    "felinos_cr\n"
   ]
  },
  {
   "cell_type": "code",
   "execution_count": 4,
   "id": "a366f852",
   "metadata": {},
   "outputs": [
    {
     "data": {
      "text/plain": [
       "<AxesSubplot:>"
      ]
     },
     "execution_count": 4,
     "metadata": {},
     "output_type": "execute_result"
    },
    {
     "data": {
      "image/png": "[encoded data removed]",
      "text/plain": [
       "<Figure size 640x480 with 1 Axes>"
      ]
     },
     "metadata": {},
     "output_type": "display_data"
    }
   ],
   "source": [
    "areasp = gpd.read_file(\"datos/AreasProt.shp\")\n",
    "areasp.plot()"
   ]
  },
  {
   "cell_type": "code",
   "execution_count": null,
   "id": "37f188fd",
   "metadata": {},
   "outputs": [],
   "source": []
  }
 ],
 "metadata": {
  "kernelspec": {
   "display_name": "Python 3 (ipykernel)",
   "language": "python",
   "name": "python3"
  },
  "language_info": {
   "codemirror_mode": {
    "name": "ipython",
    "version": 3
   },
   "file_extension": ".py",
   "mimetype": "text/x-python",
   "name": "python",
   "nbconvert_exporter": "python",
   "pygments_lexer": "ipython3",
   "version": "3.10.6"
  }
 },
 "nbformat": 4,
 "nbformat_minor": 5
}
